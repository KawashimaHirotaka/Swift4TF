{
  "nbformat": 4,
  "nbformat_minor": 0,
  "metadata": {
    "colab": {
      "name": "Swift for TensorFlow for using PyTorch No.1",
      "provenance": [],
      "collapsed_sections": [],
      "include_colab_link": true
    },
    "kernelspec": {
      "name": "swift",
      "display_name": "Swift"
    },
    "accelerator": "GPU"
  },
  "cells": [
    {
      "cell_type": "markdown",
      "metadata": {
        "id": "view-in-github",
        "colab_type": "text"
      },
      "source": [
        "<a href=\"https://colab.research.google.com/github/khirotaka/Swift4TF/blob/master/Colab/Swift%20for%20TensorFlow%20for%20using%20PyTorch%20users%20No1.ipynb\" target=\"_parent\"><img src=\"https://colab.research.google.com/assets/colab-badge.svg\" alt=\"Open In Colab\"/></a>"
      ]
    },
    {
      "cell_type": "markdown",
      "metadata": {
        "id": "IERWyXBLsP5_",
        "colab_type": "text"
      },
      "source": [
        "# PyTorch使いの為の Swift for TensorFlow"
      ]
    },
    {
      "cell_type": "code",
      "metadata": {
        "id": "kZRlD4utdPuX",
        "colab_type": "code",
        "colab": {}
      },
      "source": [
        "import TensorFlow"
      ],
      "execution_count": 0,
      "outputs": []
    },
    {
      "cell_type": "code",
      "metadata": {
        "id": "5U65UGH2qDnI",
        "colab_type": "code",
        "outputId": "cd0c8ca8-2440-425f-e031-7e7702eb63c0",
        "colab": {
          "base_uri": "https://localhost:8080/",
          "height": 102
        }
      },
      "source": [
        "TensorFlow.randomSeedForTensorFlow(using: TensorFlowSeed(graph: 0, op: 0))    // Seed固定\n",
        "\n",
        "var x: Tensor<Float> = _Raw.empty(shape: [5, 3])    // TensorFlowの低レベルAPIにアクセスするには _Raw を使う。(Raw は非推奨になった)\n",
        "print(x)"
      ],
      "execution_count": 2,
      "outputs": [
        {
          "output_type": "stream",
          "text": [
            "[[0.0, 0.0, 0.0],\r\n",
            " [0.0, 0.0, 0.0],\r\n",
            " [0.0, 0.0, 0.0],\r\n",
            " [0.0, 0.0, 0.0],\r\n",
            " [0.0, 0.0, 0.0]]\r\n"
          ],
          "name": "stdout"
        }
      ]
    },
    {
      "cell_type": "markdown",
      "metadata": {
        "id": "IZKyNJjpUj6p",
        "colab_type": "text"
      },
      "source": [
        "Swift for TensorFlowには `ShapedArray` というものがあり、`numpy.ndarray` に近いものになっている。"
      ]
    },
    {
      "cell_type": "code",
      "metadata": {
        "id": "dE42HygpUI87",
        "colab_type": "code",
        "colab": {
          "base_uri": "https://localhost:8080/",
          "height": 119
        },
        "outputId": "0de15e94-f672-413a-fd95-177ea708c655"
      },
      "source": [
        "var xx: ShapedArray<Float> = ShapedArray<Float>(shape: [5, 5], repeating: 0.0)\n",
        "print(\"Shape of xx \\(xx.shape)\")\n",
        "print(xx)"
      ],
      "execution_count": 6,
      "outputs": [
        {
          "output_type": "stream",
          "text": [
            "Shape of xx [5, 5]\r\n",
            "[[0.0, 0.0, 0.0, 0.0, 0.0],\r\n",
            " [0.0, 0.0, 0.0, 0.0, 0.0],\r\n",
            " [0.0, 0.0, 0.0, 0.0, 0.0],\r\n",
            " [0.0, 0.0, 0.0, 0.0, 0.0],\r\n",
            " [0.0, 0.0, 0.0, 0.0, 0.0]]\r\n"
          ],
          "name": "stdout"
        }
      ]
    },
    {
      "cell_type": "markdown",
      "metadata": {
        "id": "Q4h_wYUXU4rj",
        "colab_type": "text"
      },
      "source": [
        "Swift for TensorFlowで、\n",
        "```python\n",
        "torch.randn(5, 3)\n",
        "```\n",
        "を行いたいのなら、次のようにすればいい。"
      ]
    },
    {
      "cell_type": "code",
      "metadata": {
        "id": "izx9c64PqQ_P",
        "colab_type": "code",
        "outputId": "866d40e4-8bfa-49d1-de61-b5dfc7da756c",
        "colab": {
          "base_uri": "https://localhost:8080/",
          "height": 102
        }
      },
      "source": [
        "var x: Tensor<Float> = Tensor<Float>(randomNormal: [5, 3])\n",
        "print(x)"
      ],
      "execution_count": 7,
      "outputs": [
        {
          "output_type": "stream",
          "text": [
            "[[  0.4156954, -0.30111942,  -1.3234228],\r\n",
            " [ -1.1048259, -0.22339313, 0.082799174],\r\n",
            " [ 0.50594443,  -0.3716898,  0.35465118],\r\n",
            " [-0.24135874,  -0.5222881,  -0.2871418],\r\n",
            " [  0.1728122,  -0.7446935,   0.6472354]]\r\n"
          ],
          "name": "stdout"
        }
      ]
    },
    {
      "cell_type": "markdown",
      "metadata": {
        "id": "38u2TIqFVNj5",
        "colab_type": "text"
      },
      "source": [
        "```python\n",
        "torch.zeros(5, 3)\n",
        "```\n",
        "や\n",
        "```python\n",
        "torch.ones(5, 3)\n",
        "```\n",
        "も以下のように書ける。"
      ]
    },
    {
      "cell_type": "code",
      "metadata": {
        "id": "5ETf5rotqYKg",
        "colab_type": "code",
        "outputId": "4413e86a-a53e-404c-a42c-30b05fc34146",
        "colab": {
          "base_uri": "https://localhost:8080/",
          "height": 204
        }
      },
      "source": [
        "var x = Tensor<Float>(ones: [5, 3])\n",
        "print(x)\n",
        "\n",
        "print(\"----------\")    // swift で \"-\"*50 が使えないのホント不便\n",
        "\n",
        "var xx = Tensor<UInt8>(zeros: [5, 3])\n",
        "print(xx)"
      ],
      "execution_count": 11,
      "outputs": [
        {
          "output_type": "stream",
          "text": [
            "[[1.0, 1.0, 1.0],\r\n",
            " [1.0, 1.0, 1.0],\r\n",
            " [1.0, 1.0, 1.0],\r\n",
            " [1.0, 1.0, 1.0],\r\n",
            " [1.0, 1.0, 1.0]]\r\n",
            "----------\r\n",
            "[[0, 0, 0],\r\n",
            " [0, 0, 0],\r\n",
            " [0, 0, 0],\r\n",
            " [0, 0, 0],\r\n",
            " [0, 0, 0]]\r\n"
          ],
          "name": "stdout"
        }
      ]
    },
    {
      "cell_type": "markdown",
      "metadata": {
        "id": "gRxK71jUWCcI",
        "colab_type": "text"
      },
      "source": [
        "`zeros_like` も `ones_like` もある。"
      ]
    },
    {
      "cell_type": "code",
      "metadata": {
        "id": "m6wV0dHTWNT1",
        "colab_type": "code",
        "colab": {
          "base_uri": "https://localhost:8080/",
          "height": 204
        },
        "outputId": "73625994-a348-42e4-dd63-7334c73a6b1f"
      },
      "source": [
        "var tmp = ShapedArray<Float>(repeating: 0.0, shape: [5, 5])\n",
        "\n",
        "var x = Tensor<Float>(onesLike: Tensor<Float>(tmp))\n",
        "print(x)\n",
        "\n",
        "print(\"----------\")\n",
        "\n",
        "var xx = Tensor<Float>(zerosLike: Tensor<Float>(tmp))\n",
        "print(xx)"
      ],
      "execution_count": 18,
      "outputs": [
        {
          "output_type": "stream",
          "text": [
            "[[1.0, 1.0, 1.0, 1.0, 1.0],\r\n",
            " [1.0, 1.0, 1.0, 1.0, 1.0],\r\n",
            " [1.0, 1.0, 1.0, 1.0, 1.0],\r\n",
            " [1.0, 1.0, 1.0, 1.0, 1.0],\r\n",
            " [1.0, 1.0, 1.0, 1.0, 1.0]]\r\n",
            "----------\r\n",
            "[[0.0, 0.0, 0.0, 0.0, 0.0],\r\n",
            " [0.0, 0.0, 0.0, 0.0, 0.0],\r\n",
            " [0.0, 0.0, 0.0, 0.0, 0.0],\r\n",
            " [0.0, 0.0, 0.0, 0.0, 0.0],\r\n",
            " [0.0, 0.0, 0.0, 0.0, 0.0]]\r\n"
          ],
          "name": "stdout"
        }
      ]
    },
    {
      "cell_type": "markdown",
      "metadata": {
        "id": "mj8ekf_3WyXh",
        "colab_type": "text"
      },
      "source": [
        "当然、\n",
        "```python\n",
        "torch.tensor([5.5, 3.0])\n",
        "```\n",
        "のような書き方も可能"
      ]
    },
    {
      "cell_type": "code",
      "metadata": {
        "id": "oDqmv1q-qq--",
        "colab_type": "code",
        "outputId": "d17bb2f2-c470-429c-b6ac-33830e536add",
        "colab": {
          "base_uri": "https://localhost:8080/",
          "height": 34
        }
      },
      "source": [
        "var x = Tensor<Float>([5.5, 3])\n",
        "print(x)"
      ],
      "execution_count": 19,
      "outputs": [
        {
          "output_type": "stream",
          "text": [
            "[5.5, 3.0]\r\n"
          ],
          "name": "stdout"
        }
      ]
    },
    {
      "cell_type": "markdown",
      "metadata": {
        "id": "VVqHYfl0W-K2",
        "colab_type": "text"
      },
      "source": [
        "先ほどから出ている正規分布からサンプリングした乱数以外にも"
      ]
    },
    {
      "cell_type": "code",
      "metadata": {
        "id": "dusBSceixEaw",
        "colab_type": "code",
        "outputId": "00fc69cb-8330-4c25-e0de-8c5f348a59ac",
        "colab": {
          "base_uri": "https://localhost:8080/",
          "height": 102
        }
      },
      "source": [
        "var y = Tensor<Float>(randomNormal: [5, 3])\n",
        "\n",
        "print(y)"
      ],
      "execution_count": 20,
      "outputs": [
        {
          "output_type": "stream",
          "text": [
            "[[  0.2105479,  -1.3495227, -0.16156627],\r\n",
            " [ -1.3012795,    1.319071,   2.0498898],\r\n",
            " [ -0.9137847, -0.47593895,  0.25041267],\r\n",
            " [  1.3437054,  0.74800974,   1.3092104],\r\n",
            " [ -0.6983921,  0.47109076,   0.6180191]]\r\n"
          ],
          "name": "stdout"
        }
      ]
    },
    {
      "cell_type": "markdown",
      "metadata": {
        "id": "oA3_JO9d2Iot",
        "colab_type": "text"
      },
      "source": [
        "## Using GPU\n",
        "\n",
        "```swift\n",
        "var x = withDevice(.gpu, 0) {\n",
        "    Tensor<Float>([1, 2, 3])\n",
        "}    // これでGPUに載せる事が出来る。\n",
        "\n",
        "```"
      ]
    },
    {
      "cell_type": "code",
      "metadata": {
        "id": "2aFP0MEMXf51",
        "colab_type": "code",
        "colab": {}
      },
      "source": [
        "import Foundation    // Dataを使う為"
      ],
      "execution_count": 0,
      "outputs": []
    },
    {
      "cell_type": "code",
      "metadata": {
        "id": "sMz2w3CExzUo",
        "colab_type": "code",
        "outputId": "2cd4b203-c478-4279-853e-0fae41156fa9",
        "colab": {
          "base_uri": "https://localhost:8080/",
          "height": 34
        }
      },
      "source": [
        "let start = Date()\n",
        "\n",
        "var x = TensorFlow.withDevice(.gpu, 0) {\n",
        "    Tensor<Float>(randomNormal: [5000, 6000])\n",
        "}\n",
        "\n",
        "var y = TensorFlow.withDevice(.gpu, 0) {\n",
        "    matmul(x, x.transposed())\n",
        "}\n",
        "\n",
        "let end = Date().timeIntervalSince(start)\n",
        "print(end)"
      ],
      "execution_count": 24,
      "outputs": [
        {
          "output_type": "stream",
          "text": [
            "0.689223051071167\r\n"
          ],
          "name": "stdout"
        }
      ]
    },
    {
      "cell_type": "code",
      "metadata": {
        "id": "IHyp_gc_1x-x",
        "colab_type": "code",
        "outputId": "9b2657c4-ea8e-42e5-d06b-8647092783b0",
        "colab": {
          "base_uri": "https://localhost:8080/",
          "height": 34
        }
      },
      "source": [
        "let start = Date()\n",
        "\n",
        "var x = TensorFlow.withDevice(.cpu, 0) {\n",
        "    Tensor<Float>(randomNormal: [5000, 6000])\n",
        "}\n",
        "\n",
        "var y = TensorFlow.withDevice(.cpu, 0) {\n",
        "    matmul(x, x.transposed())\n",
        "}\n",
        "\n",
        "let end = Date().timeIntervalSince(start)\n",
        "print(end)"
      ],
      "execution_count": 25,
      "outputs": [
        {
          "output_type": "stream",
          "text": [
            "3.977492928504944\r\n"
          ],
          "name": "stdout"
        }
      ]
    },
    {
      "cell_type": "markdown",
      "metadata": {
        "id": "urjIe2UNYxQ_",
        "colab_type": "text"
      },
      "source": [
        "## Numpyとの互換性"
      ]
    },
    {
      "cell_type": "markdown",
      "metadata": {
        "id": "FX9kHFdrY0RP",
        "colab_type": "text"
      },
      "source": [
        "### Numpy -> TensorFlow on Swift\n",
        "\n",
        "まず、Pythonと site-packages にインストールされているPythonライブラリを使う。"
      ]
    },
    {
      "cell_type": "code",
      "metadata": {
        "id": "jmSy_3OtYKNK",
        "colab_type": "code",
        "colab": {}
      },
      "source": [
        "import PythonKit\n",
        "\n",
        "let np = Python.import(\"numpy\")"
      ],
      "execution_count": 0,
      "outputs": []
    },
    {
      "cell_type": "code",
      "metadata": {
        "id": "SIlUdInDYPRH",
        "colab_type": "code",
        "colab": {
          "base_uri": "https://localhost:8080/",
          "height": 51
        },
        "outputId": "f465f182-dad3-42dd-dc11-ef524d83a088"
      },
      "source": [
        "Python.version    // Python のバージョン"
      ],
      "execution_count": 38,
      "outputs": [
        {
          "output_type": "execute_result",
          "data": {
            "text/plain": [
              "3.6.9 (default, Nov  7 2019, 10:44:02) \n",
              "[GCC 8.3.0]\n"
            ]
          },
          "metadata": {
            "tags": []
          },
          "execution_count": 38
        }
      ]
    },
    {
      "cell_type": "markdown",
      "metadata": {
        "id": "A-Eu6HbKbudE",
        "colab_type": "text"
      },
      "source": [
        "```python\n",
        "let np = Python.import(\"numpy\")\n",
        "```\n",
        "\n",
        "で`numpy` が使えるようになります。\n",
        "あとは、いつもPythonで書いてるように関数やオブジェクトにアクセスできます。"
      ]
    },
    {
      "cell_type": "code",
      "metadata": {
        "id": "htQIpWAhYsKl",
        "colab_type": "code",
        "colab": {
          "base_uri": "https://localhost:8080/",
          "height": 34
        },
        "outputId": "b7d4e156-f4a1-4465-debc-8297762e5046"
      },
      "source": [
        "var np_a = np.random.randn(512, 32)\n",
        "print(np_a.shape)    // Numpy オブジェクト"
      ],
      "execution_count": 39,
      "outputs": [
        {
          "output_type": "stream",
          "text": [
            "(512, 32)\r\n"
          ],
          "name": "stdout"
        }
      ]
    },
    {
      "cell_type": "code",
      "metadata": {
        "id": "mb4lOvooZNAI",
        "colab_type": "code",
        "colab": {}
      },
      "source": [
        "var swift_a = Tensor<Double>(numpy: np_a)!    // Numpyを元に Tensor を作成。オプショナル型なので注意\n"
      ],
      "execution_count": 0,
      "outputs": []
    },
    {
      "cell_type": "code",
      "metadata": {
        "id": "ThChJtfjZaBJ",
        "colab_type": "code",
        "colab": {
          "base_uri": "https://localhost:8080/",
          "height": 34
        },
        "outputId": "faad446b-85d7-4816-a8cc-007550333402"
      },
      "source": [
        "print(swift_a.shape)"
      ],
      "execution_count": 50,
      "outputs": [
        {
          "output_type": "stream",
          "text": [
            "[512, 32]\r\n"
          ],
          "name": "stdout"
        }
      ]
    },
    {
      "cell_type": "markdown",
      "metadata": {
        "id": "DbfQyddQccR3",
        "colab_type": "text"
      },
      "source": [
        "### Swift -> Numpy"
      ]
    },
    {
      "cell_type": "code",
      "metadata": {
        "id": "vTy22jZTZeum",
        "colab_type": "code",
        "colab": {
          "base_uri": "https://localhost:8080/",
          "height": 34
        },
        "outputId": "87d657e6-6d2d-4869-b2c2-fdefbfdd27c9"
      },
      "source": [
        "var new_ndarray = swift_a.makeNumpyArray()    // PyTorch の numpy() と同じノリ\n",
        "\n",
        "print(new_ndarray.shape)"
      ],
      "execution_count": 51,
      "outputs": [
        {
          "output_type": "stream",
          "text": [
            "(512, 32)\r\n"
          ],
          "name": "stdout"
        }
      ]
    },
    {
      "cell_type": "markdown",
      "metadata": {
        "id": "H_pIdk-dddn6",
        "colab_type": "text"
      },
      "source": [
        "Pythonに内蔵されている関数 (例えば、 `type` を使いたいのなら、以下のようにすれば行ける)"
      ]
    },
    {
      "cell_type": "code",
      "metadata": {
        "id": "i_B-CDX9c28f",
        "colab_type": "code",
        "colab": {
          "base_uri": "https://localhost:8080/",
          "height": 34
        },
        "outputId": "46f5d9d5-de71-4cd4-f496-88cbf0c702c7"
      },
      "source": [
        "Python.type(new_ndarray)"
      ],
      "execution_count": 53,
      "outputs": [
        {
          "output_type": "execute_result",
          "data": {
            "text/plain": [
              "<class 'numpy.ndarray'>\n"
            ]
          },
          "metadata": {
            "tags": []
          },
          "execution_count": 53
        }
      ]
    }
  ]
}